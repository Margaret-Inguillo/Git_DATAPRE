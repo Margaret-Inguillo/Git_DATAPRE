{
 "cells": [
  {
   "cell_type": "code",
   "execution_count": 1,
   "metadata": {},
   "outputs": [],
   "source": [
    "import requests\n",
    "import json\n",
    "from bs4 import BeautifulSoup\n",
    "\n",
    "URL = 'https://edition.cnn.com/world/live-news/coronavirus-pandemic-06-25-20-intl/index.html'"
   ]
  },
  {
   "cell_type": "code",
   "execution_count": 2,
   "metadata": {},
   "outputs": [],
   "source": [
    "page=requests.get(URL)"
   ]
  },
  {
   "cell_type": "code",
   "execution_count": 3,
   "metadata": {},
   "outputs": [],
   "source": [
    "soup = BeautifulSoup(page.content, 'lxml')"
   ]
  },
  {
   "cell_type": "code",
   "execution_count": 47,
   "metadata": {},
   "outputs": [
    {
     "name": "stdout",
     "output_type": "stream",
     "text": [
      "Headline : What you need to know\n",
      "Headline : People should still be washing their hands and avoiding \"high-touch surfaces,\" expert warns\n",
      "Headline : Some of the biggest risk factors in catching Covid-19 are time and place, professor says\n",
      "Headline : The US is \"not even close\" to doing enough to fight the pandemic, Gates says\n",
      "Headline : White House Coronavirus Task Force to hold first public meeting in almost two months\n",
      "Headline : Bill Gates says he talks to Fauci on a regular basis \n",
      "Headline : More than 25,000 people have died from coronavirus in Mexico\n",
      "Headline : New Mexico pauses reopening plans, governor says\n",
      "Headline : Gates: \"Completely false\" that more testing means more cases\n",
      "Headline : Bill Gates says current coronavirus picture is \"more bleak\" than expected\n"
     ]
    }
   ],
   "source": [
    "for link in soup.findAll(\"h2\"):\n",
    "    print(\"Headline : {}\".format(link.text))"
   ]
  },
  {
   "cell_type": "code",
   "execution_count": 50,
   "metadata": {
    "collapsed": true,
    "jupyter": {
     "outputs_hidden": true
    }
   },
   "outputs": [
    {
     "name": "stdout",
     "output_type": "stream",
     "text": [
      "9:04 p.m. ET, June 25, 2020People should still be washing their hands and avoiding \"high-touch surfaces,\" expert warns CNNEmergency physician Leana Wen joined CNN's ongoing coronavirus town hall to answer questions from viewers on the disease, which has seen alarming spikes in the US this week.What does the CDC's new guidance mean?Today, the CDC updated its list of people who are most at risk of severe complications from coronavirus.The list includes people with severe kidney disease, lung disease, heart disease, and obesity. Obesity is a major one, since 40% of Americans fall under that category, said Wen.Pregnant women are now also on the list, and should consider themselves \"medically vulnerable,\" she said. Has the danger of infection via touching things declined?The most likely way you might get infected is through person-to-person contact, like being next to someone who is sneezing or talking. But there is still a risk of getting Covid-19 from surfaces, especially surfaces that are touched frequently by many people, said Wen — meaning it's still crucial to keep washing your hands and being careful what you touch.share with Facebookshare with Twittershare with emailshare link\n",
      "8:58 p.m. ET, June 25, 2020Some of the biggest risk factors in catching Covid-19 are time and place, professor saysFrom CNN's Andrea KaneCNN contributor Erin Bromage CNNThe most important factors that affect your risk of getting infected with the coronavirus are the amount of time spent with someone and whether that time is spent inside or out, CNN contributor Erin Bromage told Wolf Blitzer Thursday on The Situation Room.Asked if a person should hold their breath when they’re walking by someone on the street who is not wearing a mask, Bromage, an associate professor of biology at the University of Massachusetts Dartmouth, answered no. “I understand people think that that's a risk, but it's exposure to the virus, enough of the virus over enough of the time. When you're walking past somebody, holding your breath is really not going to reduce the risk for you very much at all. Nor does that person present a huge risk to you in the first place,” he said.As for the risk of catching the virus from a contaminated surface, it’s low but it’s “definitely a possibility.”“Our biggest risk is face-to-face conversations and being indoors with lots of people in an enclosed space,” said Bromage.“Time, definitely, is an issue with this. So, the longer you spend talking to somebody, the longer that you share a space with them, the higher the risk that you will get enough virus to become infected,” he added. Why wearing masks are important: “Masks stop emissions at the source. They stop them coming out of your mouth and moving into the air, into the environment. So, if we stop them where they start, they can never pose a risk to another person.” he said. He added that “even a poor fitting mask will do something, a better fitting mask does a lot more.”share with Facebookshare with Twittershare with emailshare link\n",
      "8:50 p.m. ET, June 25, 2020The US is \"not even close\" to doing enough to fight the pandemic, Gates saysFrom CNN's Melissa Mahtani CNNSpeaking to CNN's Anderson Cooper and Dr. Sanjay Gupta in a coronavirus town hall, Microsoft founder Bill Gates said the fact that people are still dying in the US today shows that the country is \"not even close\" to doing enough to fight the pandemic.He also expressed disappointment with what he called a lack of US leadership to tackle this virus globally, which has led to developing countries — such as Brazil and India — bearing the brunt of this disease.\"The US, in particular, hasn't had the leadership messages or coordination that you would have expected,\" he said.Gates said he remains hopeful that the US will \"step up\" and help get the tools, particularly the vaccine, out to everyone in the world.share with Facebookshare with Twittershare with emailshare link\n",
      "8:45 p.m. ET, June 25, 2020White House Coronavirus Task Force to hold first public meeting in almost two monthsFrom CNN's Matt HoyeVice President Mike Pence arrives for the Senate Republicans' lunch in the Hart Senate Office Building on Wednesday, June 24, in Washington, DC.  Bill Clark/CQ Roll Call/AP ImagesThe White House announced tonight that Vice President Mike Pence would lead a public coronavirus task force briefing Friday morning, the first public meeting in almost two months.The announcement comes as many states are seeing a resurgence in cases of Covid 19, as others like Oklahoma and Texas are seeing fresh spikes. The briefing will not take place at the White House, but according to the schedule released by the White House, will be at the Department of Health and Human Services. Some background: President Trump has tried to declare that the pandemic \"over,\" despite the rising numbers and has instead focused his administration's energy on reopening the economy. He has also resumed campaign rallies, despite warnings by health experts on his own task force that the events could be super spreaders of the virus. At his Tulsa, Oklahoma rally Saturday, eight members of his advance staff tested positive for the virus, and since then the Secret Service has announced that agents who attended the rally will be quarantining for the next two weeks. Campaign staffers who attended the rally are also quarantining.share with Facebookshare with Twittershare with emailshare link\n",
      "8:35 p.m. ET, June 25, 2020Bill Gates says he talks to Fauci on a regular basis From CNN's Melissa Mahtani CNNMicrosoft founder Bill Gates said he talks to Dr. Anthony Fauci, the nation's top infectious disease expert, regularly.\"I talk to him regularly, more often than he talks to some other people,\" Gates told CNN's Anderson Cooper and Dr. Sanjay Gupta during a coronavirus town hall.\"He's fantastic,\" Gates said of Fauci.In terms of a timeline, Gates said he's aligned with Fauci on his prediction that there will be a viable vaccine by the end of the year, or early 2021.Gates explained that there are two characteristics being evaluated in developing a vaccine. Firstly, that the vaccine prevents you from getting sick and secondly, that it prevents you spreading it to others.On the latter, he warned that \"it's not guaranteed that the vaccine will be a perfect transmission blocker.\"Despite that, Gates said recent evidence points to the antibody response being \"very strong,\" which suggests about a year of immunity to anyone who gets the disease.share with Facebookshare with Twittershare with emailshare link\n",
      "8:30 p.m. ET, June 25, 2020More than 25,000 people have died from coronavirus in MexicoFrom CNN’s Matt Rivers and Taylor Barnes Mexico’s health ministry reported at least 6,104 new cases of novel coronavirus on Thursday, the second-highest daily case rise reported in the country.There has now been at least 202,951 cases in the country since the beginning of the pandemic.The health ministry also reported at least 736 new Covid-19 fatalities – bringing the country’s death toll to at least 25,060.share with Facebookshare with Twittershare with emailshare link\n",
      "8:29 p.m. ET, June 25, 2020New Mexico pauses reopening plans, governor saysFrom CNN’s Andy RoseAs confirmed coronavirus cases spike in the western United States, the governor of New Mexico says they are putting further economic reopening plans on hold. “What we’re seeing around us, and what we’re seeing right here in our home state, is a clear indication that we’re not quite ready to go to phase two,” Gov. Michelle Lujan Grisham said Thursday during a briefing.While New Mexico’s case load has not gotten as dramatically high as its neighbors, Arizona and Texas, Grisham said there is still too much risk. “We can manage being flat. Our goal should be to reduce cases,” the governor said.Grisham said “the last thing anyone wants” is to have to roll back economic progress since businesses began to reopen. “The virus has not gone anywhere. I think there’s a false sense of security now,” the governor said. “New Mexicans actually have gotten really lax, I think, about wearing masks and taking this seriously.”share with Facebookshare with Twittershare with emailshare link\n",
      "8:31 p.m. ET, June 25, 2020Gates: \"Completely false\" that more testing means more casesMicrosoft founder Bill Gates dismissed the White House's claim that an increase in case numbers is a direct result of an increase in testing, calling it \"completely false.\"\"It's fair to say, you can find more cases when you do more testing, but the US is experiencing a rebound, even once you factor out the increased testing,\" Gates said during CNN's coronavirus town hall.Local officials, he said, have \"gotten their act together on testing.\"Gates said testing capacity will continue to increase in the fall, and \"that's good news.\"\"But that's not the reason we're seeing these case increases,\" he said.\"If you take the New York or the New York area out, in fact we're still very much in the thick of things.\"WATCH:share with Facebookshare with Twittershare with emailshare link\n",
      "8:49 p.m. ET, June 25, 2020Bill Gates says current coronavirus picture is \"more bleak\" than expectedFrom CNN's Melissa Mahtani CNNMicrosoft founder Bill Gates said Thursday that the current coronavirus picture, both globally and in the US, is \"more bleak\" than he would have expected.Gates, speaking at CNN coronavirus town hall, attributed the rise in numbers to a lack of testing and contact tracing, as well as a lack of mask wearing.\"The range of behaviors in the US right now, some people being very conservative in what they do, and some people ignoring the epidemic, is huge,\" Gates said.\"Some people almost feel like it's a political thing which is unfortunate,\" he added, something he says he didn't expect in America.WATCH: share with Facebookshare with Twittershare with emailshare link\n"
     ]
    }
   ],
   "source": [
    "for news in soup.findAll('article', {'class' : 'sc-bwzfXH sc-kIPQKe jjVnED'}):\n",
    "    print(news.text.strip())\n",
    "    "
   ]
  },
  {
   "cell_type": "code",
   "execution_count": 9,
   "metadata": {},
   "outputs": [
    {
     "name": "stdout",
     "output_type": "stream",
     "text": [
      "Date : 9:04 p.m. ET, June 25, 2020\n",
      "Date : 8:58 p.m. ET, June 25, 2020\n",
      "Date : 8:50 p.m. ET, June 25, 2020\n",
      "Date : 8:45 p.m. ET, June 25, 2020\n",
      "Date : 8:35 p.m. ET, June 25, 2020\n",
      "Date : 8:30 p.m. ET, June 25, 2020\n",
      "Date : 8:29 p.m. ET, June 25, 2020\n",
      "Date : 8:31 p.m. ET, June 25, 2020\n",
      "Date : 8:49 p.m. ET, June 25, 2020\n"
     ]
    }
   ],
   "source": [
    "for date_time in soup.findAll('span',{'class' : 'sc-bAeIUo ghjvgQ'}):\n",
    "    print(\"Date : {}\".format(date_time.text.strip()))"
   ]
  },
  {
   "cell_type": "code",
   "execution_count": 14,
   "metadata": {},
   "outputs": [
    {
     "name": "stdout",
     "output_type": "stream",
     "text": [
      "Author : From CNN's Andrea Kane\n",
      "Author : From CNN's Melissa Mahtani\n",
      "Author : From CNN's Matt Hoye\n",
      "Author : From CNN's Melissa Mahtani\n",
      "Author : From CNN’s Matt Rivers and Taylor Barnes\n",
      "Author : From CNN’s Andy Rose\n",
      "Author : From CNN's Melissa Mahtani\n"
     ]
    }
   ],
   "source": [
    "for authors in soup.findAll('p',{'class' : 'sc-dfVpRl fHIrNq'}):\n",
    "    print(\"Author : {}\".format(authors.text.strip()))"
   ]
  },
  {
   "cell_type": "code",
   "execution_count": 55,
   "metadata": {},
   "outputs": [
    {
     "data": {
      "text/plain": [
       "['What you need to know',\n",
       " 'People should still be washing their hands and avoiding \"high-touch surfaces,\" expert warns',\n",
       " 'Some of the biggest risk factors in catching Covid-19 are time and place, professor says',\n",
       " 'The US is \"not even close\" to doing enough to fight the pandemic, Gates says',\n",
       " 'White House Coronavirus Task Force to hold first public meeting in almost two months',\n",
       " 'Bill Gates says he talks to Fauci on a regular basis\\xa0',\n",
       " 'More than 25,000 people have died from coronavirus in Mexico',\n",
       " 'New Mexico pauses reopening plans, governor says',\n",
       " 'Gates: \"Completely false\" that more testing means more cases',\n",
       " 'Bill Gates says current coronavirus picture is \"more bleak\" than expected']"
      ]
     },
     "execution_count": 55,
     "metadata": {},
     "output_type": "execute_result"
    }
   ],
   "source": [
    "headline = []\n",
    "for link in soup.findAll(\"h2\"):\n",
    "    #print(\"Headline : {}\".format(link.text))\n",
    "    headline.append(link.text)\n",
    "headline"
   ]
  },
  {
   "cell_type": "code",
   "execution_count": 56,
   "metadata": {},
   "outputs": [
    {
     "data": {
      "text/plain": [
       "10"
      ]
     },
     "execution_count": 56,
     "metadata": {},
     "output_type": "execute_result"
    }
   ],
   "source": [
    "len(headline)"
   ]
  },
  {
   "cell_type": "code",
   "execution_count": 53,
   "metadata": {},
   "outputs": [
    {
     "data": {
      "text/plain": [
       "['9:04 p.m. ET, June 25, 2020',\n",
       " '8:58 p.m. ET, June 25, 2020',\n",
       " '8:50 p.m. ET, June 25, 2020',\n",
       " '8:45 p.m. ET, June 25, 2020',\n",
       " '8:35 p.m. ET, June 25, 2020',\n",
       " '8:30 p.m. ET, June 25, 2020',\n",
       " '8:29 p.m. ET, June 25, 2020',\n",
       " '8:31 p.m. ET, June 25, 2020',\n",
       " '8:49 p.m. ET, June 25, 2020']"
      ]
     },
     "execution_count": 53,
     "metadata": {},
     "output_type": "execute_result"
    }
   ],
   "source": [
    "datetime = []\n",
    "for date_time in soup.findAll('span',{'class' : 'sc-bAeIUo ghjvgQ'}):\n",
    "    #print(\"Date : {}\".format(date_time.text.strip()))\n",
    "    datetime.append(date_time.text.strip())\n",
    "datetime"
   ]
  },
  {
   "cell_type": "code",
   "execution_count": 54,
   "metadata": {},
   "outputs": [
    {
     "data": {
      "text/plain": [
       "9"
      ]
     },
     "execution_count": 54,
     "metadata": {},
     "output_type": "execute_result"
    }
   ],
   "source": [
    "len(datetime)"
   ]
  },
  {
   "cell_type": "code",
   "execution_count": 60,
   "metadata": {
    "collapsed": true,
    "jupyter": {
     "outputs_hidden": true
    }
   },
   "outputs": [
    {
     "data": {
      "text/plain": [
       "['9:04 p.m. ET, June 25, 2020People should still be washing their hands and avoiding \"high-touch surfaces,\" expert warns CNNEmergency physician Leana Wen joined CNN\\'s ongoing coronavirus town hall to answer questions from viewers on the disease, which has seen alarming spikes in the US this week.What does the CDC\\'s new guidance mean?Today, the CDC updated\\xa0its list of people who are most at risk of severe complications from coronavirus.The list includes people with severe kidney disease, lung\\xa0disease, heart disease, and obesity. Obesity is a major one, since 40% of\\xa0Americans fall under that category, said Wen.Pregnant women are now also on the list, and should consider themselves \"medically vulnerable,\" she said. Has the danger\\xa0of infection via touching things declined?The most likely way you might get infected is through person-to-person contact, like being next to someone who is sneezing or talking. But there is still a risk of getting Covid-19 from surfaces, especially surfaces that are touched frequently by many people, said Wen — meaning it\\'s still crucial to keep washing your hands and being careful what you touch.share with Facebookshare with Twittershare with emailshare link',\n",
       " \"8:58 p.m. ET, June 25, 2020Some of the biggest risk factors in catching Covid-19 are time and place, professor saysFrom CNN's Andrea KaneCNN contributor Erin Bromage CNNThe most important factors that affect your risk of getting infected with the coronavirus are the amount of time spent with someone and whether that time is spent inside or out,\\xa0CNN contributor Erin Bromage told Wolf Blitzer Thursday on The Situation Room.Asked if a person should hold their breath when they’re walking by someone on the street who is not wearing a mask, Bromage, an associate professor of biology at the University of Massachusetts Dartmouth, answered no. “I understand people think that that's a risk, but it's exposure to the virus, enough of the virus over enough of the time. When you're walking past somebody, holding your breath is really not going to reduce the risk for you very much at all. Nor does that person present a huge risk to you in the first place,” he said.As for the risk of catching the virus from a contaminated surface, it’s low but it’s “definitely a possibility.”“Our biggest risk is face-to-face conversations and being indoors with lots of people in an enclosed space,” said Bromage.“Time, definitely, is an issue with this. So, the longer you spend talking to somebody, the longer that you share a space with them, the higher the risk that you will get enough virus to become infected,” he added. Why wearing masks are important: “Masks stop emissions at the source. They stop them coming out of your mouth and moving into the air, into the environment. So, if we stop them where they start, they can never pose a risk to another person.” he said. He added that “even a poor fitting mask will do something, a better fitting mask does a lot more.”share with Facebookshare with Twittershare with emailshare link\",\n",
       " '8:50 p.m. ET, June 25, 2020The US is \"not even close\" to doing enough to fight the pandemic, Gates saysFrom CNN\\'s Melissa Mahtani CNNSpeaking to CNN\\'s Anderson Cooper and Dr. Sanjay Gupta in a coronavirus town hall, Microsoft founder Bill Gates said the fact that people are still dying in the US today shows that the country is \"not even close\" to doing enough to fight the pandemic.He also expressed disappointment with what he called a lack of US leadership to tackle this virus globally, which has led to developing countries — such as Brazil and India — bearing the brunt of this disease.\"The US, in particular, hasn\\'t had the leadership messages or coordination that you would have expected,\" he said.Gates said he remains hopeful that the US will \"step up\" and help get the tools, particularly the vaccine, out to everyone in the world.share with Facebookshare with Twittershare with emailshare link',\n",
       " '8:45 p.m. ET, June 25, 2020White House Coronavirus Task Force to hold first public meeting in almost two monthsFrom CNN\\'s Matt HoyeVice President Mike Pence arrives for the Senate Republicans\\' lunch in the Hart Senate Office Building on Wednesday, June 24, in Washington, DC.  Bill Clark/CQ Roll Call/AP ImagesThe White House announced tonight that Vice President Mike Pence would lead a public coronavirus task force briefing Friday morning, the first public meeting in almost two months.The announcement comes as many states are seeing a resurgence in cases of Covid 19, as others like Oklahoma and Texas are seeing fresh spikes.\\xa0The briefing will not take place at the White House, but according to the schedule released by the White House, will be at the Department of Health and Human Services.\\xa0Some background: President Trump has tried to declare that the pandemic \"over,\" despite the rising numbers and has instead focused his administration\\'s energy on reopening the economy.\\xa0He has also resumed campaign rallies, despite warnings by health experts on his own task force that the events could be super spreaders of the virus.\\xa0At his Tulsa, Oklahoma rally Saturday, eight members of his advance staff tested positive for the virus, and since then the Secret Service has announced that agents who attended the rally will be quarantining for the next two weeks.\\xa0Campaign staffers who attended the rally are also quarantining.share with Facebookshare with Twittershare with emailshare link',\n",
       " '8:35 p.m. ET, June 25, 2020Bill Gates says he talks to Fauci on a regular basis\\xa0From CNN\\'s Melissa Mahtani CNNMicrosoft founder Bill Gates said he talks to Dr. Anthony Fauci, the nation\\'s top infectious disease expert, regularly.\"I talk to him regularly, more often than he talks to some other people,\" Gates told CNN\\'s Anderson Cooper and Dr. Sanjay Gupta during a coronavirus town hall.\"He\\'s fantastic,\" Gates said of Fauci.In terms of a timeline, Gates said he\\'s aligned with Fauci on his prediction that there will be a viable vaccine by the end of the year, or early 2021.Gates explained that there are two characteristics being evaluated in developing a vaccine.\\xa0Firstly, that the vaccine prevents you from getting sick and secondly, that it prevents you spreading it to others.On the latter, he warned that \"it\\'s not guaranteed that the vaccine will be a perfect transmission blocker.\"Despite that, Gates said recent evidence points to the antibody response being \"very strong,\" which suggests about a year of immunity to anyone who gets the disease.share with Facebookshare with Twittershare with emailshare link',\n",
       " '8:30 p.m. ET, June 25, 2020More than 25,000 people have died from coronavirus in MexicoFrom CNN’s Matt Rivers and Taylor Barnes Mexico’s health ministry reported at least 6,104 new cases of novel coronavirus on Thursday, the second-highest daily case rise reported in the country.There has now been at least 202,951 cases in the country since the beginning of the pandemic.The health ministry also reported at least 736 new Covid-19 fatalities – bringing the country’s death toll to at least 25,060.share with Facebookshare with Twittershare with emailshare link',\n",
       " '8:29 p.m. ET, June 25, 2020New Mexico pauses reopening plans, governor saysFrom CNN’s Andy RoseAs confirmed coronavirus cases spike in the western United States, the governor of New Mexico says they are putting further economic reopening plans on hold. “What we’re seeing around us, and what we’re seeing right here in our home state, is a clear indication that we’re not quite ready to go to phase two,” Gov. Michelle Lujan Grisham said Thursday during a briefing.While New Mexico’s case load has not gotten as dramatically high as its neighbors, Arizona and Texas, Grisham said there is still too much risk. “We can manage being flat. Our goal should be to reduce cases,” the governor said.Grisham said “the last thing anyone wants” is to have to roll back economic progress since businesses began to reopen. “The virus has not gone anywhere. I think there’s a false sense of security now,” the governor said. “New Mexicans actually have gotten really lax, I think, about wearing masks and taking this seriously.”share with Facebookshare with Twittershare with emailshare link',\n",
       " '8:31 p.m. ET, June 25, 2020Gates: \"Completely false\" that more testing means more casesMicrosoft founder Bill Gates dismissed the White House\\'s claim that an increase in case numbers is a direct result of an increase in testing, calling it \"completely false.\"\"It\\'s fair to say, you can find more cases when you do more testing, but the US is experiencing a rebound, even once you factor out the increased testing,\" Gates said during CNN\\'s coronavirus town hall.Local officials, he said, have \"gotten their act together on testing.\"Gates said testing capacity will continue to increase in the fall, and \"that\\'s good news.\"\"But that\\'s not the reason we\\'re seeing these case increases,\" he said.\"If you take the New York or the New York area out, in fact we\\'re still very much in the thick of things.\"WATCH:share with Facebookshare with Twittershare with emailshare link',\n",
       " '8:49 p.m. ET, June 25, 2020Bill Gates says current coronavirus picture is \"more bleak\" than expectedFrom CNN\\'s Melissa Mahtani CNNMicrosoft founder Bill Gates said Thursday that the current coronavirus picture, both globally and in the US, is \"more bleak\" than he would have expected.Gates, speaking at CNN coronavirus town hall, attributed the rise in numbers to a lack of testing and contact tracing, as well as a lack of mask wearing.\"The range of behaviors in the US right now, some people being very conservative in what they do, and some people ignoring the epidemic, is huge,\" Gates said.\"Some people almost feel like it\\'s a political thing which is unfortunate,\" he added, something he says he didn\\'t expect in America.WATCH: share with Facebookshare with Twittershare with emailshare link']"
      ]
     },
     "execution_count": 60,
     "metadata": {},
     "output_type": "execute_result"
    }
   ],
   "source": [
    "articles = []\n",
    "for news in soup.findAll('article', {'class' : 'sc-bwzfXH sc-kIPQKe jjVnED'}):\n",
    "    #print(news.text.strip())\n",
    "    articles.append(news.text.strip())\n",
    "articles"
   ]
  },
  {
   "cell_type": "code",
   "execution_count": 51,
   "metadata": {},
   "outputs": [
    {
     "data": {
      "text/plain": [
       "9"
      ]
     },
     "execution_count": 51,
     "metadata": {},
     "output_type": "execute_result"
    }
   ],
   "source": [
    "len(articles)"
   ]
  },
  {
   "cell_type": "code",
   "execution_count": 67,
   "metadata": {},
   "outputs": [
    {
     "ename": "IndexError",
     "evalue": "list index out of range",
     "output_type": "error",
     "traceback": [
      "\u001b[1;31m---------------------------------------------------------------------------\u001b[0m",
      "\u001b[1;31mIndexError\u001b[0m                                Traceback (most recent call last)",
      "\u001b[1;32m<ipython-input-67-bf82516af875>\u001b[0m in \u001b[0;36m<module>\u001b[1;34m\u001b[0m\n\u001b[1;32m----> 1\u001b[1;33m \u001b[0marticles\u001b[0m\u001b[1;33m[\u001b[0m\u001b[1;36m9\u001b[0m\u001b[1;33m]\u001b[0m\u001b[1;33m\u001b[0m\u001b[1;33m\u001b[0m\u001b[0m\n\u001b[0m",
      "\u001b[1;31mIndexError\u001b[0m: list index out of range"
     ]
    }
   ],
   "source": [
    "articles[9] #some articles do not have an author (inconsistent)"
   ]
  },
  {
   "cell_type": "code",
   "execution_count": 1,
   "metadata": {},
   "outputs": [
    {
     "ename": "NameError",
     "evalue": "name 'soup' is not defined",
     "output_type": "error",
     "traceback": [
      "\u001b[1;31m---------------------------------------------------------------------------\u001b[0m",
      "\u001b[1;31mNameError\u001b[0m                                 Traceback (most recent call last)",
      "\u001b[1;32m<ipython-input-1-064d24f19630>\u001b[0m in \u001b[0;36m<module>\u001b[1;34m\u001b[0m\n\u001b[0;32m      5\u001b[0m \u001b[0marticless\u001b[0m \u001b[1;33m=\u001b[0m \u001b[1;33m[\u001b[0m\u001b[1;33m]\u001b[0m\u001b[1;33m\u001b[0m\u001b[1;33m\u001b[0m\u001b[0m\n\u001b[0;32m      6\u001b[0m \u001b[1;33m\u001b[0m\u001b[0m\n\u001b[1;32m----> 7\u001b[1;33m \u001b[1;32mfor\u001b[0m \u001b[0mlink\u001b[0m \u001b[1;32min\u001b[0m \u001b[0msoup\u001b[0m\u001b[1;33m.\u001b[0m\u001b[0mfindAll\u001b[0m\u001b[1;33m(\u001b[0m\u001b[1;34m\"h2\"\u001b[0m\u001b[1;33m)\u001b[0m\u001b[1;33m:\u001b[0m\u001b[1;33m\u001b[0m\u001b[1;33m\u001b[0m\u001b[0m\n\u001b[0m\u001b[0;32m      8\u001b[0m     \u001b[0mheadlines\u001b[0m\u001b[1;33m.\u001b[0m\u001b[0mappend\u001b[0m\u001b[1;33m(\u001b[0m\u001b[0mlink\u001b[0m\u001b[1;33m.\u001b[0m\u001b[0mtext\u001b[0m\u001b[1;33m)\u001b[0m\u001b[1;33m\u001b[0m\u001b[1;33m\u001b[0m\u001b[0m\n\u001b[0;32m      9\u001b[0m     \u001b[1;31m#print(\"Headline : {}\".format(link.text))\u001b[0m\u001b[1;33m\u001b[0m\u001b[1;33m\u001b[0m\u001b[1;33m\u001b[0m\u001b[0m\n",
      "\u001b[1;31mNameError\u001b[0m: name 'soup' is not defined"
     ]
    }
   ],
   "source": [
    "start = 0\n",
    "cnn = []\n",
    "headlines = []\n",
    "datetimes = []\n",
    "articless = []\n",
    "\n",
    "for link in soup.findAll(\"h2\"):\n",
    "    headlines.append(link.text)\n",
    "    #print(\"Headline : {}\".format(link.text))\n",
    "for date_time in soup.findAll('span',{'class' : 'sc-bAeIUo ghjvgQ'}):\n",
    "    datetimes.append(date_time.text.strip())\n",
    "    #print(\"Date : {}\".format(date_time.text.strip()))\n",
    "for news in soup.findAll('article', {'class' : 'sc-bwzfXH sc-kIPQKe jjVnED'}):\n",
    "    articless.append(news.text.strip(date_time.text))\n",
    "    #print(news.text.strip())\n",
    "    \n",
    "    for count in range(start, len(articless)):\n",
    "        headlines_e = headlines[count]\n",
    "        datetimes_e = datetimes[count]\n",
    "        articless_e = articless[count]\n",
    "        \n",
    "    cnn.append({\n",
    "            \"date\": datetimes_e,\n",
    "            \"title\": headlines_e,\n",
    "            \"article_body\": articless_e\n",
    "        }) \n",
    "    \n",
    "with open('cnn.json', 'w') as json_file:\n",
    "    json.dump(cnn, json_file) "
   ]
  },
  {
   "cell_type": "code",
   "execution_count": null,
   "metadata": {},
   "outputs": [],
   "source": []
  }
 ],
 "metadata": {
  "kernelspec": {
   "display_name": "Python 3",
   "language": "python",
   "name": "python3"
  },
  "language_info": {
   "codemirror_mode": {
    "name": "ipython",
    "version": 3
   },
   "file_extension": ".py",
   "mimetype": "text/x-python",
   "name": "python",
   "nbconvert_exporter": "python",
   "pygments_lexer": "ipython3",
   "version": "3.8.5"
  }
 },
 "nbformat": 4,
 "nbformat_minor": 4
}
